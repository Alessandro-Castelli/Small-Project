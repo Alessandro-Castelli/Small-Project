version https://git-lfs.github.com/spec/v1
oid sha256:56c5e1e9c0f4b25a565bbdab8d5a224860a4fa54ae64bdb47f064007d096368b
size 30084
